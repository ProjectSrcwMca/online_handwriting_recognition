{
 "cells": [
  {
   "cell_type": "code",
   "execution_count": 1,
   "metadata": {},
   "outputs": [],
   "source": [
    "import sys, os\n",
    "PROJECT_ROOT = os.path.abspath(os.path.join(os.getcwd(), '..'))\n",
    "sys.path.insert(0, PROJECT_ROOT)\n",
    "sys.dont_write_bytecode = True"
   ]
  },
  {
   "cell_type": "code",
   "execution_count": 2,
   "metadata": {},
   "outputs": [],
   "source": [
    "from MODEL.processing_dataset.reader import IAMReader\n",
    "from MODEL.constants import SPLIT, PREPROCESS"
   ]
  },
  {
   "cell_type": "code",
   "execution_count": 3,
   "metadata": {},
   "outputs": [
    {
     "data": {
      "text/plain": [
       "<IAMReader of split=\"all\">"
      ]
     },
     "execution_count": 3,
     "metadata": {},
     "output_type": "execute_result"
    }
   ],
   "source": [
    "reader_all = IAMReader(SPLIT.ALL)\n",
    "reader_all"
   ]
  },
  {
   "cell_type": "code",
   "execution_count": 4,
   "metadata": {},
   "outputs": [
    {
     "name": "stdout",
     "output_type": "stream",
     "text": [
      "Count missing files: 999\n",
      "Ratio missing files: 0.08208035494207543\n"
     ]
    },
    {
     "data": {
      "text/plain": [
       "12171"
      ]
     },
     "execution_count": 4,
     "metadata": {},
     "output_type": "execute_result"
    }
   ],
   "source": [
    "all_samples = reader_all.get_samples()\n",
    "len(all_samples)"
   ]
  },
  {
   "cell_type": "code",
   "execution_count": 5,
   "metadata": {},
   "outputs": [
    {
     "data": {
      "text/plain": [
       "<Sample of name=a10-713z-01>"
      ]
     },
     "execution_count": 5,
     "metadata": {},
     "output_type": "execute_result"
    }
   ],
   "source": [
    "sample = all_samples[1000]\n",
    "sample"
   ]
  },
  {
   "cell_type": "code",
   "execution_count": 6,
   "metadata": {},
   "outputs": [
    {
     "data": {
      "image/png": "[encoded data removed]",
      "text/plain": [
       "<Figure size 1000x1000 with 1 Axes>"
      ]
     },
     "metadata": {},
     "output_type": "display_data"
    }
   ],
   "source": [
    "sample.visualize()"
   ]
  },
  {
   "cell_type": "code",
   "execution_count": 7,
   "metadata": {},
   "outputs": [
    {
     "data": {
      "text/plain": [
       "('/Users/egorleontenkov/Desktop/Arcticle/IAM-OnDB/lineStrokes/a10/a10-713/a10-713z-01.xml',\n",
       " <PointSet w=5091 h=599 points_len=520>,\n",
       " 'They occupied the front two ')"
      ]
     },
     "execution_count": 7,
     "metadata": {},
     "output_type": "execute_result"
    }
   ],
   "source": [
    "sample.xml_path, sample.pointset, sample.get_ground_truth_text()"
   ]
  },
  {
   "cell_type": "code",
   "execution_count": 8,
   "metadata": {},
   "outputs": [
    {
     "data": {
      "text/plain": [
       "(array([[-2.70979546e+01, -2.59581088e+00, -1.71554668e-02,\n",
       "          3.69602070e-01,  1.00000000e+00,  0.00000000e+00],\n",
       "        [-2.71151101e+01, -2.22620881e+00, -1.71554668e-02,\n",
       "          3.69602070e-01,  1.00000000e+00,  0.00000000e+00],\n",
       "        [-2.71322655e+01, -1.85660674e+00, -1.71554668e-02,\n",
       "          3.69602070e-01,  1.00000000e+00,  0.00000000e+00],\n",
       "        ...,\n",
       "        [ 2.67899365e+01,  5.32309842e-01,  1.05914420e-01,\n",
       "         -3.54516764e-01,  1.00000000e+00,  0.00000000e+00],\n",
       "        [ 2.68958509e+01,  1.77793078e-01,  1.05914420e-01,\n",
       "         -3.54516764e-01,  1.00000000e+00,  0.00000000e+00],\n",
       "        [ 2.70017653e+01, -1.76723685e-01, -1.05852641e-01,\n",
       "         -1.89476705e-01,  0.00000000e+00,  1.00000000e+00]]),\n",
       " (397, 6))"
      ]
     },
     "execution_count": 8,
     "metadata": {},
     "output_type": "execute_result"
    }
   ],
   "source": [
    "features = sample.generate_features(preprocess=PREPROCESS.SCHEME6)\n",
    "features, features.shape"
   ]
  }
 ],
 "metadata": {
  "kernelspec": {
   "display_name": "base",
   "language": "python",
   "name": "python3"
  },
  "language_info": {
   "codemirror_mode": {
    "name": "ipython",
    "version": 3
   },
   "file_extension": ".py",
   "mimetype": "text/x-python",
   "name": "python",
   "nbconvert_exporter": "python",
   "pygments_lexer": "ipython3",
   "version": "3.12.2"
  }
 },
 "nbformat": 4,
 "nbformat_minor": 2
}
