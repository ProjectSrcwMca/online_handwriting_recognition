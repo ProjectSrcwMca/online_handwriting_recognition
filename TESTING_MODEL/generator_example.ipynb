{
 "cells": [
  {
   "cell_type": "code",
   "execution_count": 1,
   "metadata": {},
   "outputs": [],
   "source": [
    "import sys, os\n",
    "PROJECT_ROOT = os.path.abspath(os.path.join(os.getcwd(), '..'))\n",
    "sys.path.insert(0, PROJECT_ROOT)\n",
    "sys.dont_write_bytecode = True\n",
    "\n",
    "from MODEL.processing_dataset.generator import IAMDataset, make_iam_collate_fn\n",
    "from MODEL.constants import SPLIT, PATH\n",
    "from torch.utils.data import DataLoader\n",
    "from matplotlib import pyplot as plt\n",
    "from MODEL.decoding.decoding_converter import *\n",
    "import numpy as np"
   ]
  },
  {
   "cell_type": "code",
   "execution_count": 2,
   "metadata": {},
   "outputs": [
    {
     "name": "stdout",
     "output_type": "stream",
     "text": [
      "Count missing files: 999\n",
      "Ratio missing files: 0.25914396887159535\n",
      "Preprocessing dataset on the fly (this may take time)...\n"
     ]
    },
    {
     "name": "stderr",
     "output_type": "stream",
     "text": [
      "Preparing samples: 100%|██████████| 3855/3855 [01:09<00:00, 55.62it/s]\n"
     ]
    },
    {
     "data": {
      "image/png": "[encoded data removed]",
      "text/plain": [
       "<Figure size 1000x1000 with 1 Axes>"
      ]
     },
     "metadata": {},
     "output_type": "display_data"
    }
   ],
   "source": [
    "pred_seq = IAMDataset(SPLIT.TEST, preprocess=6, pred=True, inout_ratio=4)\n",
    "features, ground_truth, pointset = pred_seq.random_sample()\n",
    "pointset.plot_strokes()\n"
   ]
  },
  {
   "cell_type": "code",
   "execution_count": 3,
   "metadata": {},
   "outputs": [
    {
     "name": "stdout",
     "output_type": "stream",
     "text": [
      "Count missing files: 999\n",
      "Ratio missing files: 0.25914396887159535\n",
      "torch.Size([1, 965, 6]) torch.Size([1, 242])\n",
      "input_lengths: tensor([965])\n",
      "target_lengths: tensor([41])\n"
     ]
    }
   ],
   "source": [
    "test_set = IAMDataset(split=SPLIT.TEST, preload=False, npz=False, preprocess=1)\n",
    "test_loader = DataLoader(test_set, batch_size=1, shuffle=True,collate_fn=make_iam_collate_fn())\n",
    "\n",
    "for batch in test_loader:\n",
    "    xs = batch[\"inputs\"]\n",
    "    ys = batch[\"labels_padded\"]\n",
    "    input_lengths = batch[\"input_lengths\"]\n",
    "    target_lengths = batch[\"target_lengths\"]\n",
    "    print(xs.shape, ys.shape)\n",
    "    print(\"input_lengths:\", input_lengths)\n",
    "    print(\"target_lengths:\", target_lengths)\n",
    "    break"
   ]
  },
  {
   "cell_type": "code",
   "execution_count": 4,
   "metadata": {},
   "outputs": [
    {
     "name": "stdout",
     "output_type": "stream",
     "text": [
      "Count missing files: 999\n",
      "Ratio missing files: 0.25914396887159535\n",
      "Preprocessing dataset on the fly (this may take time)...\n"
     ]
    },
    {
     "name": "stderr",
     "output_type": "stream",
     "text": [
      "Preparing samples: 100%|██████████| 3855/3855 [00:57<00:00, 66.87it/s]"
     ]
    },
    {
     "name": "stdout",
     "output_type": "stream",
     "text": [
      "torch.Size([1, 955, 6]) torch.Size([1, 239])\n",
      "input_lengths: tensor([955])\n",
      "target_lengths: tensor([44])\n"
     ]
    },
    {
     "name": "stderr",
     "output_type": "stream",
     "text": [
      "\n"
     ]
    }
   ],
   "source": [
    "test_set = IAMDataset(split=SPLIT.TEST, preload=True, npz=False, preprocess=1)\n",
    "test_loader = DataLoader(test_set, batch_size=1, shuffle=True,collate_fn=make_iam_collate_fn())\n",
    "\n",
    "for batch in test_loader:\n",
    "    xs = batch[\"inputs\"]\n",
    "    ys = batch[\"labels_padded\"]\n",
    "    input_lengths = batch[\"input_lengths\"]\n",
    "    target_lengths = batch[\"target_lengths\"]\n",
    "    print(xs.shape, ys.shape)\n",
    "    print(\"input_lengths:\", input_lengths)\n",
    "    print(\"target_lengths:\", target_lengths)\n",
    "    break"
   ]
  },
  {
   "cell_type": "code",
   "execution_count": 5,
   "metadata": {},
   "outputs": [
    {
     "name": "stdout",
     "output_type": "stream",
     "text": [
      "Count missing files: 999\n",
      "Ratio missing files: 0.25914396887159535\n",
      "Loading preprocessed npz files...\n"
     ]
    },
    {
     "name": "stderr",
     "output_type": "stream",
     "text": [
      "Loading npz: 100%|██████████| 3855/3855 [00:00<00:00, 4546.35it/s]\n"
     ]
    },
    {
     "name": "stdout",
     "output_type": "stream",
     "text": [
      "torch.Size([1, 768, 6]) torch.Size([1, 192])\n",
      "input_lengths: tensor([768])\n",
      "target_lengths: tensor([34])\n"
     ]
    }
   ],
   "source": [
    "test_set = IAMDataset(split=SPLIT.TEST, preload=True, npz=True, preprocess=1)\n",
    "test_loader = DataLoader(test_set, batch_size=1, shuffle=True,collate_fn=make_iam_collate_fn())\n",
    "\n",
    "for batch in test_loader:\n",
    "    xs = batch[\"inputs\"]\n",
    "    ys = batch[\"labels_padded\"]\n",
    "    input_lengths = batch[\"input_lengths\"]\n",
    "    target_lengths = batch[\"target_lengths\"]\n",
    "    print(xs.shape, ys.shape)\n",
    "    print(\"input_lengths:\", input_lengths)\n",
    "    print(\"target_lengths:\", target_lengths)\n",
    "    break"
   ]
  }
 ],
 "metadata": {
  "kernelspec": {
   "display_name": "base",
   "language": "python",
   "name": "python3"
  },
  "language_info": {
   "codemirror_mode": {
    "name": "ipython",
    "version": 3
   },
   "file_extension": ".py",
   "mimetype": "text/x-python",
   "name": "python",
   "nbconvert_exporter": "python",
   "pygments_lexer": "ipython3",
   "version": "3.12.2"
  }
 },
 "nbformat": 4,
 "nbformat_minor": 2
}
